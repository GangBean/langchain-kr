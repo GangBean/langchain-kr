{
 "cells": [
  {
   "cell_type": "markdown",
   "id": "50650ed4",
   "metadata": {},
   "source": [
    "## LCEL 인터페이스\n"
   ]
  },
  {
   "cell_type": "markdown",
   "id": "6b78209c",
   "metadata": {},
   "source": [
    "사용자 정의 체인을 가능한 쉽게 만들 수 있도록, [`Runnable`](https://api.python.langchain.com/en/stable/runnables/langchain_core.runnables.base.Runnable.html#langchain_core.runnables.base.Runnable) 프로토콜을 구현했습니다. \n",
    "\n",
    "`Runnable` 프로토콜은 대부분의 컴포넌트에 구현되어 있습니다.\n",
    "\n",
    "이는 표준 인터페이스로, 사용자 정의 체인을 정의하고 표준 방식으로 호출하는 것을 쉽게 만듭니다.\n",
    "표준 인터페이스에는 다음이 포함됩니다.\n",
    "\n",
    "- [`stream`](#stream): 응답의 청크를 스트리밍합니다.\n",
    "- [`invoke`](#invoke): 입력에 대해 체인을 호출합니다.\n",
    "- [`batch`](#batch): 입력 목록에 대해 체인을 호출합니다.\n",
    "\n",
    "비동기 메소드도 있습니다.\n",
    "\n",
    "- [`astream`](#async-stream): 비동기적으로 응답의 청크를 스트리밍합니다.\n",
    "- [`ainvoke`](#async-invoke): 비동기적으로 입력에 대해 체인을 호출합니다.\n",
    "- [`abatch`](#async-batch): 비동기적으로 입력 목록에 대해 체인을 호출합니다.\n",
    "- [`astream_log`](#async-stream-intermediate-steps): 최종 응답뿐만 아니라 발생하는 중간 단계를 스트리밍합니다."
   ]
  },
  {
   "cell_type": "code",
   "execution_count": 1,
   "id": "b5a5ffc2",
   "metadata": {},
   "outputs": [
    {
     "data": {
      "text/plain": [
       "True"
      ]
     },
     "execution_count": 1,
     "metadata": {},
     "output_type": "execute_result"
    }
   ],
   "source": [
    "# API KEY를 환경변수로 관리하기 위한 설정 파일\n",
    "from dotenv import load_dotenv\n",
    "\n",
    "# API KEY 정보로드\n",
    "load_dotenv()"
   ]
  },
  {
   "cell_type": "code",
   "execution_count": 2,
   "id": "a4ccea96",
   "metadata": {},
   "outputs": [
    {
     "name": "stdout",
     "output_type": "stream",
     "text": [
      "LangSmith 추적을 시작합니다.\n",
      "[프로젝트명]\n",
      "CH01-Basic\n"
     ]
    }
   ],
   "source": [
    "# LangSmith 추적을 설정합니다. https://smith.langchain.com\n",
    "# !pip install -qU langchain-teddynote\n",
    "from langchain_teddynote import logging\n",
    "\n",
    "# 프로젝트 이름을 입력합니다.\n",
    "logging.langsmith(\"CH01-Basic\")"
   ]
  },
  {
   "cell_type": "markdown",
   "id": "a59f2751",
   "metadata": {},
   "source": [
    "LCEL 문법을 사용하여 chain 을 생성합니다."
   ]
  },
  {
   "cell_type": "code",
   "execution_count": 15,
   "id": "735d72ca",
   "metadata": {},
   "outputs": [],
   "source": [
    "from langchain_openai import ChatOpenAI\n",
    "from langchain_core.prompts import PromptTemplate\n",
    "from langchain_core.output_parsers import StrOutputParser\n",
    "\n",
    "# ChatOpenAI 모델을 인스턴스화합니다.\n",
    "model = ChatOpenAI()\n",
    "# 주어진 토픽에 대한 농담을 요청하는 프롬프트 템플릿을 생성합니다.\n",
    "prompt = PromptTemplate.from_template(\"{topic} 에 대하여 3문장으로 설명해줘.\")\n",
    "# 프롬프트와 모델을 연결하여 대화 체인을 생성합니다.\n",
    "chain = prompt | model | StrOutputParser()"
   ]
  },
  {
   "cell_type": "code",
   "execution_count": 4,
   "id": "0841af93",
   "metadata": {},
   "outputs": [],
   "source": [
    "from langchain_openai import ChatOpenAI\n",
    "from langchain_core.prompts import PromptTemplate\n",
    "from langchain_core.output_parsers import StrOutputParser"
   ]
  },
  {
   "cell_type": "code",
   "execution_count": 5,
   "id": "7045ec86",
   "metadata": {},
   "outputs": [],
   "source": [
    "model = ChatOpenAI()\n",
    "prompt = PromptTemplate.from_template(\"{topic}에 대해 3~5문장으로 설명해줘.\")\n",
    "topic_chain = prompt | model | StrOutputParser()"
   ]
  },
  {
   "cell_type": "code",
   "execution_count": 6,
   "id": "d9159efd",
   "metadata": {},
   "outputs": [],
   "source": [
    "input = {\n",
    "    \"topic\": \"LangChain의 Runnalbe 인터페이스\"\n",
    "}"
   ]
  },
  {
   "cell_type": "code",
   "execution_count": 7,
   "id": "704eda25",
   "metadata": {},
   "outputs": [
    {
     "data": {
      "text/plain": [
       "'LangChain의 Runnable 인터페이스는 실행 가능한 작업을 나타내는 인터페이스로, run() 메서드를 구현함으로써 스레드로 실행될 수 있도록 합니다. 이 인터페이스를 구현한 클래스는 스레드를 생성하거나 ExecutorService를 사용하여 병렬로 실행될 수 있습니다. Runnable 인터페이스를 사용하면 코드의 재사용성과 유연성을 높일 수 있습니다.'"
      ]
     },
     "execution_count": 7,
     "metadata": {},
     "output_type": "execute_result"
    }
   ],
   "source": [
    "topic_chain.invoke(input)"
   ]
  },
  {
   "cell_type": "code",
   "execution_count": 8,
   "id": "7c041241",
   "metadata": {},
   "outputs": [],
   "source": [
    "topic_stream_response = topic_chain.stream(input)"
   ]
  },
  {
   "cell_type": "code",
   "execution_count": 9,
   "id": "b6b88c38",
   "metadata": {},
   "outputs": [
    {
     "name": "stdout",
     "output_type": "stream",
     "text": [
      "<generator object RunnableSequence.stream at 0x10cbefa60>\n"
     ]
    }
   ],
   "source": [
    "print(topic_stream_response)"
   ]
  },
  {
   "cell_type": "code",
   "execution_count": 10,
   "id": "6f873dd4",
   "metadata": {},
   "outputs": [
    {
     "name": "stdout",
     "output_type": "stream",
     "text": [
      "LangChain의 Runnable 인터페이스는 실행 가능한 작업을 표현하는 인터페이스입니다. 이 인터페이스를 구현한 객체는 run() 메서드를 오버라이딩하여 작업을 정의할 수 있습니다. Runnable 객체는 Thread 클래스의 생성자에 전달되어 별도의 스레드에서 실행될 수 있습니다. 이를 통해 다중 스레드를 활용하여 병렬 처리를 구현할 수 있습니다."
     ]
    }
   ],
   "source": [
    "from langchain_teddynote.messages import stream_response\n",
    "\n",
    "stream_response(topic_stream_response)"
   ]
  },
  {
   "cell_type": "code",
   "execution_count": 11,
   "id": "65e08e16",
   "metadata": {},
   "outputs": [],
   "source": [
    "stream_question = {\n",
    "    \"topic\": \"LangChain Runnable의 stream() 메소드에서, 실제로 LLM Model에 추론을 요청하는 시점이 언제야? Message Chunk 를 flush 하는 것 같은데, 이 시점에 다음 chunk를 fetch 해오는거야?\"\n",
    "}"
   ]
  },
  {
   "cell_type": "code",
   "execution_count": 12,
   "id": "ddbec79f",
   "metadata": {},
   "outputs": [],
   "source": [
    "stream_question_response_stream = topic_chain.stream(stream_question)"
   ]
  },
  {
   "cell_type": "code",
   "execution_count": 13,
   "id": "3aef0197",
   "metadata": {},
   "outputs": [
    {
     "name": "stdout",
     "output_type": "stream",
     "text": [
      "LangChain Runnable의 stream() 메소드에서 LLM Model에 추론을 요청하는 시점은 Message Chunk를 flush하는 시점이다. 이때 다음 chunk를 fetch 해오는 것은 아니고, 현재 chunk에 대한 추론을 요청하게 된다. 따라서 추론이 완료되면 해당 chunk에 대한 결과를 리턴하고, 다음 chunk를 처리하기 위해 다시 stream() 메소드를 호출하게 된다. 이 과정을 통해 순차적으로 각 chunk를 처리하고 결과를 반환하게 된다."
     ]
    }
   ],
   "source": [
    "stream_response(stream_question_response_stream)"
   ]
  },
  {
   "cell_type": "code",
   "execution_count": null,
   "id": "e03bb6cd",
   "metadata": {},
   "outputs": [],
   "source": []
  },
  {
   "cell_type": "markdown",
   "id": "eb57eb05",
   "metadata": {},
   "source": [
    "## stream: 실시간 출력\n"
   ]
  },
  {
   "cell_type": "markdown",
   "id": "1d62447d",
   "metadata": {},
   "source": [
    "이 함수는 `chain.stream` 메서드를 사용하여 주어진 토픽에 대한 데이터 스트림을 생성하고, 이 스트림을 반복하여 각 데이터의 내용(`content`)을 즉시 출력합니다. `end=\"\"` 인자는 출력 후 줄바꿈을 하지 않도록 설정하며, `flush=True` 인자는 출력 버퍼를 즉시 비우도록 합니다. "
   ]
  },
  {
   "cell_type": "code",
   "execution_count": null,
   "id": "f6304f90",
   "metadata": {},
   "outputs": [],
   "source": [
    "# chain.stream 메서드를 사용하여 '멀티모달' 토픽에 대한 스트림을 생성하고 반복합니다.\n",
    "for token in chain.stream({\"topic\": \"멀티모달\"}):\n",
    "    # 스트림에서 받은 데이터의 내용을 출력합니다. 줄바꿈 없이 이어서 출력하고, 버퍼를 즉시 비웁니다.\n",
    "    print(token, end=\"\", flush=True)"
   ]
  },
  {
   "cell_type": "markdown",
   "id": "0e6d71cf",
   "metadata": {},
   "source": [
    "## invoke: 호출\n"
   ]
  },
  {
   "cell_type": "markdown",
   "id": "2a0feebe",
   "metadata": {},
   "source": [
    "`chain` 객체의 `invoke` 메서드는 주제를 인자로 받아 해당 주제에 대한 처리를 수행합니다."
   ]
  },
  {
   "cell_type": "code",
   "execution_count": null,
   "id": "6fb8bf06",
   "metadata": {},
   "outputs": [],
   "source": [
    "# chain 객체의 invoke 메서드를 호출하고, 'ChatGPT'라는 주제로 딕셔너리를 전달합니다.\n",
    "chain.invoke({\"topic\": \"ChatGPT\"})"
   ]
  },
  {
   "cell_type": "markdown",
   "id": "a6618b9d",
   "metadata": {},
   "source": [
    "## batch: 배치(단위 실행)\n"
   ]
  },
  {
   "cell_type": "markdown",
   "id": "c8c34bad",
   "metadata": {},
   "source": [
    "함수 `chain.batch`는 여러 개의 딕셔너리를 포함하는 리스트를 인자로 받아, 각 딕셔너리에 있는 `topic` 키의 값을 사용하여 일괄 처리를 수행합니다."
   ]
  },
  {
   "cell_type": "code",
   "execution_count": null,
   "id": "687d223d",
   "metadata": {},
   "outputs": [],
   "source": [
    "# 주어진 토픽 리스트를 batch 처리하는 함수 호출\n",
    "chain.batch([{\"topic\": \"ChatGPT\"}, {\"topic\": \"Instagram\"}])"
   ]
  },
  {
   "cell_type": "markdown",
   "id": "970a4f5a",
   "metadata": {},
   "source": [
    "`max_concurrency` 매개변수를 사용하여 동시 요청 수를 설정할 수 있습니다\n",
    "\n",
    "`config` 딕셔너리는 `max_concurrency` 키를 통해 동시에 처리할 수 있는 최대 작업 수를 설정합니다. 여기서는 최대 3개의 작업을 동시에 처리하도록 설정되어 있습니다."
   ]
  },
  {
   "cell_type": "code",
   "execution_count": null,
   "id": "2d5398d9",
   "metadata": {},
   "outputs": [],
   "source": [
    "chain.batch(\n",
    "    [\n",
    "        {\"topic\": \"ChatGPT\"},\n",
    "        {\"topic\": \"Instagram\"},\n",
    "        {\"topic\": \"멀티모달\"},\n",
    "        {\"topic\": \"프로그래밍\"},\n",
    "        {\"topic\": \"머신러닝\"},\n",
    "    ],\n",
    "    config={\"max_concurrency\": 3},\n",
    ")"
   ]
  },
  {
   "cell_type": "markdown",
   "id": "ec64e4fd",
   "metadata": {},
   "source": [
    "## async stream: 비동기 스트림\n"
   ]
  },
  {
   "cell_type": "markdown",
   "id": "5dbb21a3",
   "metadata": {},
   "source": [
    "함수 `chain.astream`은 비동기 스트림을 생성하며, 주어진 토픽에 대한 메시지를 비동기적으로 처리합니다.\n",
    "\n",
    "비동기 for 루프(`async for`)를 사용하여 스트림에서 메시지를 순차적으로 받아오고, `print` 함수를 통해 메시지의 내용(`s.content`)을 즉시 출력합니다. `end=\"\"`는 출력 후 줄바꿈을 하지 않도록 설정하며, `flush=True`는 출력 버퍼를 강제로 비워 즉시 출력되도록 합니다.\n"
   ]
  },
  {
   "cell_type": "code",
   "execution_count": 16,
   "id": "3f8a9e91",
   "metadata": {},
   "outputs": [
    {
     "name": "stdout",
     "output_type": "stream",
     "text": [
      "YouTube는 동영상 공유 플랫폼으로, 사용자들이 영상을 업로드하고 시청할 수 있는 서비스이다. 다양한 콘텐츠를 제공하며, 사용자들은 댓글을 남기거나 구독하여 원하는 채널을 지속적으로 시청할 수 있다. 또한 광고 수익을 얻을 수 있는 기회를 제공하여 크리에이터들이 수익을 창출할 수 있는 플랫폼이기도 하다."
     ]
    }
   ],
   "source": [
    "# 비동기 스트림을 사용하여 'YouTube' 토픽의 메시지를 처리합니다.\n",
    "async for token in chain.astream({\"topic\": \"YouTube\"}):\n",
    "    # 메시지 내용을 출력합니다. 줄바꿈 없이 바로 출력하고 버퍼를 비웁니다.\n",
    "    print(token, end=\"\", flush=True)"
   ]
  },
  {
   "cell_type": "markdown",
   "id": "a33cb7e9",
   "metadata": {},
   "source": [
    "## async invoke: 비동기 호출\n"
   ]
  },
  {
   "cell_type": "markdown",
   "id": "763738b7",
   "metadata": {},
   "source": [
    "`chain` 객체의 `ainvoke` 메서드는 비동기적으로 주어진 인자를 사용하여 작업을 수행합니다. 여기서는 `topic`이라는 키와 `NVDA`(엔비디아의 티커) 라는 값을 가진 딕셔너리를 인자로 전달하고 있습니다. 이 메서드는 특정 토픽에 대한 처리를 비동기적으로 요청하는 데 사용될 수 있습니다.\n"
   ]
  },
  {
   "cell_type": "code",
   "execution_count": 17,
   "id": "2038557a",
   "metadata": {},
   "outputs": [],
   "source": [
    "# 비동기 체인 객체의 'ainvoke' 메서드를 호출하여 'NVDA' 토픽을 처리합니다.\n",
    "my_process = chain.ainvoke({\"topic\": \"NVDA\"})"
   ]
  },
  {
   "cell_type": "code",
   "execution_count": 18,
   "id": "ea8077cb",
   "metadata": {},
   "outputs": [
    {
     "data": {
      "text/plain": [
       "'NVDA는 미국의 기업으로, 그래픽 처리 장치와 시스템 소프트웨어를 개발하고 판매하는 회사이다. 주로 게임용 그래픽 카드와 시각 장애인을 위한 음성 입력 및 출력 소프트웨어를 생산한다. 주식시장에서는 기술주로 분류되며, 시장에서 높은 인기를 얻고 있다.'"
      ]
     },
     "execution_count": 18,
     "metadata": {},
     "output_type": "execute_result"
    }
   ],
   "source": [
    "# 비동기로 처리되는 프로세스가 완료될 때까지 기다립니다.\n",
    "await my_process"
   ]
  },
  {
   "cell_type": "markdown",
   "id": "1c466177",
   "metadata": {},
   "source": [
    "## async batch: 비동기 배치\n"
   ]
  },
  {
   "cell_type": "markdown",
   "id": "2da01286",
   "metadata": {},
   "source": [
    "함수 `abatch`는 비동기적으로 일련의 작업을 일괄 처리합니다.\n",
    "\n",
    "이 예시에서는 `chain` 객체의 `abatch` 메서드를 사용하여 `topic` 에 대한 작업을 비동기적으로 처리하고 있습니다.\n",
    "\n",
    "`await` 키워드는 해당 비동기 작업이 완료될 때까지 기다리는 데 사용됩니다.\n"
   ]
  },
  {
   "cell_type": "code",
   "execution_count": 19,
   "id": "53a00116",
   "metadata": {},
   "outputs": [],
   "source": [
    "# 주어진 토픽에 대해 비동기적으로 일괄 처리를 수행합니다.\n",
    "my_abatch_process = chain.abatch(\n",
    "    [{\"topic\": \"YouTube\"}, {\"topic\": \"Instagram\"}, {\"topic\": \"Facebook\"}]\n",
    ")"
   ]
  },
  {
   "cell_type": "code",
   "execution_count": 20,
   "id": "8823211b",
   "metadata": {},
   "outputs": [
    {
     "data": {
      "text/plain": [
       "['YouTube는 온라인 동영상 공유 플랫폼으로 세계적으로 가장 인기 있는 사이트 중 하나이다. 사용자들은 다양한 주제의 동영상을 시청하고 업로드할 수 있으며, 구독자들과의 상호작용을 통해 커뮤니티를 형성할 수 있다. 광고 수익을 얻거나 유명해지기 위해 노력하는 크리에이터들도 많이 활동하고 있다.',\n",
       " 'Instagram은 사진과 동영상을 공유하고 소셜 네트워크를 형성할 수 있는 앱이다. 사용자들은 다른 사람들의 게시물을 좋아하고 댓글을 남기며 소통할 수 있다. 또한 스토리 기능을 통해 일상을 간편하게 공유할 수 있다.',\n",
       " 'Facebook은 사람들이 소셜 네트워크를 통해 연결하고 소통할 수 있는 플랫폼이다.\\n 사용자들은 친구, 가족뿐만 아니라 온라인으로 새로운 인연을 만들어 소통하고 정보를 공유한다.\\n 또한 광고, 비즈니스 활동 등을 위한 다양한 기능을 제공하여 많은 사람들이 이용하고 있다.']"
      ]
     },
     "execution_count": 20,
     "metadata": {},
     "output_type": "execute_result"
    }
   ],
   "source": [
    "# 비동기로 처리되는 일괄 처리 프로세스가 완료될 때까지 기다립니다.\n",
    "await my_abatch_process"
   ]
  },
  {
   "cell_type": "markdown",
   "id": "fe0b9377",
   "metadata": {},
   "source": [
    "## Parallel: 병렬성\n",
    "\n",
    "LangChain Expression Language가 병렬 요청을 지원하는 방법을 살펴봅시다.\n",
    "예를 들어, `RunnableParallel`을 사용할 때, 각 요소를 병렬로 실행합니다.\n"
   ]
  },
  {
   "cell_type": "markdown",
   "id": "84a387f0",
   "metadata": {},
   "source": [
    "`langchain_core.runnables` 모듈의 `RunnableParallel` 클래스를 사용하여 두 가지 작업을 병렬로 실행하는 예시를 보여줍니다.\n",
    "\n",
    "`ChatPromptTemplate.from_template` 메서드를 사용하여 주어진 `country`에 대한 **수도** 와 **면적** 을 구하는 두 개의 체인(`chain1`, `chain2`)을 만듭니다.\n",
    "\n",
    "이 체인들은 각각 `model`과 파이프(`|`) 연산자를 통해 연결됩니다. 마지막으로, `RunnableParallel` 클래스를 사용하여 이 두 체인을 `capital`와 `area`이라는 키로 결합하여 동시에 실행할 수 있는 `combined` 객체를 생성합니다.\n"
   ]
  },
  {
   "cell_type": "code",
   "execution_count": 21,
   "id": "c2b42d05",
   "metadata": {},
   "outputs": [],
   "source": [
    "from langchain_core.runnables import RunnableParallel\n",
    "\n",
    "# {country} 의 수도를 물어보는 체인을 생성합니다.\n",
    "chain1 = (\n",
    "    PromptTemplate.from_template(\"{country} 의 수도는 어디야?\")\n",
    "    | model\n",
    "    | StrOutputParser()\n",
    ")\n",
    "\n",
    "# {country} 의 면적을 물어보는 체인을 생성합니다.\n",
    "chain2 = (\n",
    "    PromptTemplate.from_template(\"{country} 의 면적은 얼마야?\")\n",
    "    | model\n",
    "    | StrOutputParser()\n",
    ")\n",
    "\n",
    "# 위의 2개 체인을 동시에 생성하는 병렬 실행 체인을 생성합니다.\n",
    "combined = RunnableParallel(capital=chain1, area=chain2)"
   ]
  },
  {
   "cell_type": "markdown",
   "id": "3bb0a2b8",
   "metadata": {},
   "source": [
    "`chain1.invoke()` 함수는 `chain1` 객체의 `invoke` 메서드를 호출합니다.\n",
    "\n",
    "이때, `country`이라는 키에 `대한민국`라는 값을 가진 딕셔너리를 인자로 전달합니다.\n"
   ]
  },
  {
   "cell_type": "code",
   "execution_count": 22,
   "id": "f04dbce0",
   "metadata": {},
   "outputs": [
    {
     "data": {
      "text/plain": [
       "'대한민국의 수도는 서울이다.'"
      ]
     },
     "execution_count": 22,
     "metadata": {},
     "output_type": "execute_result"
    }
   ],
   "source": [
    "# chain1 를 실행합니다.\n",
    "chain1.invoke({\"country\": \"대한민국\"})"
   ]
  },
  {
   "cell_type": "markdown",
   "id": "fa819963",
   "metadata": {},
   "source": [
    "이번에는 `chain2.invoke()` 를 호출합니다. `country` 키에 다른 국가인 `미국` 을 전달합니다.\n"
   ]
  },
  {
   "cell_type": "code",
   "execution_count": 23,
   "id": "5b055566",
   "metadata": {},
   "outputs": [
    {
     "data": {
      "text/plain": [
       "'미국의 면적은 약 9,826,675 km² 입니다.'"
      ]
     },
     "execution_count": 23,
     "metadata": {},
     "output_type": "execute_result"
    }
   ],
   "source": [
    "# chain2 를 실행합니다.\n",
    "chain2.invoke({\"country\": \"미국\"})"
   ]
  },
  {
   "cell_type": "markdown",
   "id": "7d5f3bbb",
   "metadata": {},
   "source": [
    "`combined` 객체의 `invoke` 메서드는 주어진 `country`에 대한 처리를 수행합니다.\n",
    "\n",
    "이 예제에서는 `대한민국`라는 주제를 `invoke` 메서드에 전달하여 실행합니다.\n"
   ]
  },
  {
   "cell_type": "code",
   "execution_count": 24,
   "id": "6fa82d78",
   "metadata": {},
   "outputs": [
    {
     "data": {
      "text/plain": [
       "{'capital': '대한민국의 수도는 서울이다.', 'area': '대한민국의 총 면적은 약 100,363km² 입니다.'}"
      ]
     },
     "execution_count": 24,
     "metadata": {},
     "output_type": "execute_result"
    }
   ],
   "source": [
    "# 병렬 실행 체인을 실행합니다.\n",
    "combined.invoke({\"country\": \"대한민국\"})"
   ]
  },
  {
   "cell_type": "markdown",
   "id": "459613b6",
   "metadata": {},
   "source": [
    "### 배치에서의 병렬 처리\n",
    "\n",
    "병렬 처리는 다른 실행 가능한 코드와 결합될 수 있습니다.\n",
    "배치와 병렬 처리를 사용해 보도록 합시다.\n"
   ]
  },
  {
   "cell_type": "markdown",
   "id": "da1621ce",
   "metadata": {},
   "source": [
    "`chain1.batch` 함수는 여러 개의 딕셔너리를 포함하는 리스트를 인자로 받아, 각 딕셔너리에 있는 \"topic\" 키에 해당하는 값을 처리합니다. 이 예시에서는 \"대한민국\"와 \"미국\"라는 두 개의 토픽을 배치 처리하고 있습니다.\n"
   ]
  },
  {
   "cell_type": "code",
   "execution_count": 25,
   "id": "0754e0ae",
   "metadata": {},
   "outputs": [
    {
     "data": {
      "text/plain": [
       "['대한민국의 수도는 서울이다.', '미국의 수도는 워싱턴 D.C.입니다.']"
      ]
     },
     "execution_count": 25,
     "metadata": {},
     "output_type": "execute_result"
    }
   ],
   "source": [
    "# 배치 처리를 수행합니다.\n",
    "chain1.batch([{\"country\": \"대한민국\"}, {\"country\": \"미국\"}])"
   ]
  },
  {
   "cell_type": "markdown",
   "id": "2bb73505",
   "metadata": {},
   "source": [
    "`chain2.batch` 함수는 여러 개의 딕셔너리를 리스트 형태로 받아, 일괄 처리(batch)를 수행합니다.\n",
    "\n",
    "이 예시에서는 `대한민국`와 `미국`라는 두 가지 국가에 대한 처리를 요청합니다.\n"
   ]
  },
  {
   "cell_type": "code",
   "execution_count": 26,
   "id": "1f076b08",
   "metadata": {},
   "outputs": [
    {
     "data": {
      "text/plain": [
       "['대한민국의 총 면적은 약 100,363.4km² 입니다.', '미국의 면적은 약 9,833,520 km² 입니다.']"
      ]
     },
     "execution_count": 26,
     "metadata": {},
     "output_type": "execute_result"
    }
   ],
   "source": [
    "# 배치 처리를 수행합니다.\n",
    "chain2.batch([{\"country\": \"대한민국\"}, {\"country\": \"미국\"}])"
   ]
  },
  {
   "cell_type": "markdown",
   "id": "f40da05e",
   "metadata": {},
   "source": [
    "`combined.batch` 함수는 주어진 데이터를 배치로 처리하는 데 사용됩니다. 이 예시에서는 두 개의 딕셔너리 객체를 포함하는 리스트를 인자로 받아 각각 `대한민국`와 `미국` 두 나라에 대한 데이터를 배치 처리합니다.\n"
   ]
  },
  {
   "cell_type": "code",
   "execution_count": 27,
   "id": "aeec745e",
   "metadata": {},
   "outputs": [
    {
     "data": {
      "text/plain": [
       "[{'capital': '대한민국의 수도는 서울입니다.', 'area': '대한민국의 면적은 약 100,363.4km² 입니다.'},\n",
       " {'capital': '미국의 수도는 워싱턴 D.C.입니다.',\n",
       "  'area': '미국의 면적은 약 9,834,000 제곱 킬로미터입니다.'}]"
      ]
     },
     "execution_count": 27,
     "metadata": {},
     "output_type": "execute_result"
    }
   ],
   "source": [
    "# 주어진 데이터를 배치로 처리합니다.\n",
    "combined.batch([{\"country\": \"대한민국\"}, {\"country\": \"미국\"}])"
   ]
  }
 ],
 "metadata": {
  "kernelspec": {
   "display_name": "py-test",
   "language": "python",
   "name": "python3"
  },
  "language_info": {
   "codemirror_mode": {
    "name": "ipython",
    "version": 3
   },
   "file_extension": ".py",
   "mimetype": "text/x-python",
   "name": "python",
   "nbconvert_exporter": "python",
   "pygments_lexer": "ipython3",
   "version": "3.11.5"
  }
 },
 "nbformat": 4,
 "nbformat_minor": 5
}
