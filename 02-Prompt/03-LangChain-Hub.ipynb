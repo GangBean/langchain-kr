{
 "cells": [
  {
   "cell_type": "markdown",
   "metadata": {},
   "source": [
    "다음은 LangChain Hub 에서 프롬프트를 받아서 실행하는 예제입니다.\n",
    "\n",
    "아래 주소에서 LangChain Hub 프롬프트를 확인할 수 있습니다.\n",
    "\n",
    "받아오는 방법은 프롬프트 repo 의 아이디 값을 가져 올 수 있고, commit id 를 붙여서 특정 버전에 대한 프롬프트를 받아올 수도 있습니다.\n"
   ]
  },
  {
   "cell_type": "markdown",
   "metadata": {},
   "source": [
    "## Hub로부터 Prompt 받아오기\n"
   ]
  },
  {
   "cell_type": "code",
   "execution_count": null,
   "metadata": {},
   "outputs": [],
   "source": [
    "from langchain import hub\n",
    "\n",
    "# 가장 최신 버전의 프롬프트를 가져옵니다.\n",
    "prompt = hub.pull(\"rlm/rag-prompt\")"
   ]
  },
  {
   "cell_type": "code",
   "execution_count": 1,
   "metadata": {},
   "outputs": [],
   "source": [
    "from langchain import hub\n",
    "\n",
    "prompt = hub.pull(\"hardkothari/prompt-maker\")"
   ]
  },
  {
   "cell_type": "code",
   "execution_count": 2,
   "metadata": {},
   "outputs": [
    {
     "name": "stdout",
     "output_type": "stream",
     "text": [
      "input_variables=['lazy_prompt', 'task'] input_types={} partial_variables={} metadata={'lc_hub_owner': 'hardkothari', 'lc_hub_repo': 'prompt-maker', 'lc_hub_commit_hash': 'c5db8eeefa7be4862a9599b759608dd10ee53f53910838f69abb5ab31c257c2d'} messages=[SystemMessagePromptTemplate(prompt=PromptTemplate(input_variables=[], input_types={}, partial_variables={}, template='You are an expert Prompt Writer for Large Language Models.\\n\\n'), additional_kwargs={}), HumanMessagePromptTemplate(prompt=PromptTemplate(input_variables=['lazy_prompt', 'task'], input_types={}, partial_variables={}, template='Your goal is to improve the prompt given below for {task} :\\n--------------------\\n\\nPrompt: {lazy_prompt}\\n\\n--------------------\\n\\nHere are several tips on writing great prompts:\\n\\n-------\\n\\nStart the prompt by stating that it is an expert in the subject.\\n\\nPut instructions at the beginning of the prompt and use ### or to separate the instruction and context \\n\\nBe specific, descriptive and as detailed as possible about the desired context, outcome, length, format, style, etc \\n\\n---------\\n\\nHere\\'s an example of a great prompt:\\n\\nAs a master YouTube content creator, develop an engaging script that revolves around the theme of \"Exploring Ancient Ruins.\"\\n\\nYour script should encompass exciting discoveries, historical insights, and a sense of adventure.\\n\\nInclude a mix of on-screen narration, engaging visuals, and possibly interactions with co-hosts or experts.\\n\\nThe script should ideally result in a video of around 10-15 minutes, providing viewers with a captivating journey through the secrets of the past.\\n\\nExample:\\n\\n\"Welcome back, fellow history enthusiasts, to our channel! Today, we embark on a thrilling expedition...\"\\n\\n-----\\n\\nNow, improve the prompt.\\n\\nIMPROVED PROMPT:'), additional_kwargs={})]\n"
     ]
    }
   ],
   "source": [
    "print(prompt)"
   ]
  },
  {
   "cell_type": "code",
   "execution_count": 10,
   "metadata": {},
   "outputs": [],
   "source": [
    "entity_prompt = prompt.format(**{\"lazy_prompt\": \"점심메뉴서비스를 만드는데 필요한 핵심 엔티티들과 설명을 설계해줘.\", \"task\": \"엔티티 설계\"})"
   ]
  },
  {
   "cell_type": "code",
   "execution_count": 7,
   "metadata": {},
   "outputs": [],
   "source": [
    "from langchain_openai import ChatOpenAI"
   ]
  },
  {
   "cell_type": "code",
   "execution_count": 9,
   "metadata": {},
   "outputs": [],
   "source": [
    "llm = ChatOpenAI(\n",
    "    temperature= .5,\n",
    "    model_name= \"gpt-4-turbo\",\n",
    ")"
   ]
  },
  {
   "cell_type": "code",
   "execution_count": 13,
   "metadata": {},
   "outputs": [],
   "source": [
    "response = llm.stream(entity_prompt)"
   ]
  },
  {
   "cell_type": "code",
   "execution_count": 16,
   "metadata": {},
   "outputs": [],
   "source": [
    "from langchain_teddynote.messages import stream_response"
   ]
  },
  {
   "cell_type": "code",
   "execution_count": 17,
   "metadata": {},
   "outputs": [
    {
     "name": "stdout",
     "output_type": "stream",
     "text": [
      "### Prompt Improvement for 엔티티 설계 (Entity Design)\n",
      "\n",
      "As an expert in software architecture and database design, develop a detailed plan for the core entities required to create a lunch menu service. \n",
      "\n",
      "Please outline each entity, describe its attributes, and explain its relationships with other entities in the system. Your explanation should include the following:\n",
      "\n",
      "1. **Entity Names**: Provide clear, concise names for each entity.\n",
      "2. **Attributes**: List and describe the attributes of each entity, including data types and any constraints.\n",
      "3. **Relationships**: Explain how the entities interact with each other, including any relational links (e.g., one-to-many, many-to-many).\n",
      "4. **Purpose**: Describe the role and importance of each entity within the context of a lunch menu service.\n",
      "\n",
      "Your response should be structured, using bullet points or a tabular format for clarity, and aim for a comprehensive yet concise description that could be directly used for database implementation.\n",
      "\n",
      "Example:\n",
      "\n",
      "- **Entity**: Menu\n",
      "  - **Attributes**: \n",
      "    - MenuID (integer, primary key)\n",
      "    - Date (date, not null)\n",
      "    - Description (text, nullable)\n",
      "  - **Relationships**:\n",
      "    - Has many Dishes (one-to-many)\n",
      "  - **Purpose**: Represents a specific lunch menu for a given date.\n",
      "\n",
      "Continue with similar details for other entities like Dishes, Ingredients, etc."
     ]
    }
   ],
   "source": [
    "stream_response(response)"
   ]
  },
  {
   "cell_type": "code",
   "execution_count": null,
   "metadata": {},
   "outputs": [],
   "source": [
    "# 프롬프트 내용 출력\n",
    "print(prompt)"
   ]
  },
  {
   "cell_type": "code",
   "execution_count": null,
   "metadata": {},
   "outputs": [],
   "source": [
    "# 특정 버전의 프롬프트를 가져오려면 버전 해시를 지정하세요\n",
    "prompt = hub.pull(\"rlm/rag-prompt:50442af1\")\n",
    "prompt"
   ]
  },
  {
   "cell_type": "markdown",
   "metadata": {},
   "source": [
    "## Prompt Hub 에 자신의 프롬프트 등록\n"
   ]
  },
  {
   "cell_type": "code",
   "execution_count": null,
   "metadata": {},
   "outputs": [],
   "source": [
    "from langchain.prompts import ChatPromptTemplate\n",
    "\n",
    "\n",
    "prompt = ChatPromptTemplate.from_template(\n",
    "    \"주어진 내용을 바탕으로 다음 문장을 요약하세요. 답변은 반드시 한글로 작성하세요\\n\\nCONTEXT: {context}\\n\\nSUMMARY:\"\n",
    ")\n",
    "prompt"
   ]
  },
  {
   "cell_type": "code",
   "execution_count": null,
   "metadata": {},
   "outputs": [],
   "source": [
    "from langchain import hub\n",
    "\n",
    "# 프롬프트를 허브에 업로드합니다.\n",
    "hub.push(\"teddynote/simple-summary-korean\", prompt)"
   ]
  },
  {
   "cell_type": "markdown",
   "metadata": {},
   "source": [
    "다음은 Hub 에 성공적으로 업로드 된 후 출력입니다.\n",
    "\n",
    "`아이디/프롬프트명/해시`\n"
   ]
  },
  {
   "cell_type": "markdown",
   "metadata": {},
   "source": [
    "> 출력: 'https://smith.langchain.com/hub/teddynote/simple-summary-korean/0e296563'\n"
   ]
  },
  {
   "cell_type": "code",
   "execution_count": null,
   "metadata": {},
   "outputs": [],
   "source": [
    "from langchain import hub\n",
    "\n",
    "# 프롬프트를 허브로부터 가져옵니다.\n",
    "pulled_prompt = hub.pull(\"teddynote/simple-summary-korean\")"
   ]
  },
  {
   "cell_type": "code",
   "execution_count": null,
   "metadata": {},
   "outputs": [],
   "source": [
    "# 프롬프트 내용 출력\n",
    "print(pulled_prompt)"
   ]
  }
 ],
 "metadata": {
  "kernelspec": {
   "display_name": "py-test",
   "language": "python",
   "name": "python3"
  },
  "language_info": {
   "codemirror_mode": {
    "name": "ipython",
    "version": 3
   },
   "file_extension": ".py",
   "mimetype": "text/x-python",
   "name": "python",
   "nbconvert_exporter": "python",
   "pygments_lexer": "ipython3",
   "version": "3.11.5"
  }
 },
 "nbformat": 4,
 "nbformat_minor": 2
}
